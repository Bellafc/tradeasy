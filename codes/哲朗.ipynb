{
 "cells": [
  {
   "cell_type": "code",
   "execution_count": 2,
   "metadata": {},
   "outputs": [],
   "source": [
    "import pdfplumber\n",
    "import pandas as pd\n",
    "import numpy as np\n",
    "import os\n",
    "import textEx\n",
    "from datetime import datetime\n",
    "import pandas as pd"
   ]
  },
  {
   "cell_type": "code",
   "execution_count": 7,
   "metadata": {},
   "outputs": [],
   "source": [
    "def readAllZheLangPDF(dir:str) -> pd.DataFrame:\n",
    "    column_names=['name','date']\n",
    "    all_pages_df=pd.DataFrame(columns=column_names)\n",
    "    for filename in os.listdir(dir):\n",
    "        contents=\"\"\n",
    "        filtered_lines = []\n",
    "        if filename.endswith('.pdf'):\n",
    "            file_path = os.path.join(dir, filename)\n",
    "            with pdfplumber.open(file_path) as pdf:\n",
    "                for page in pdf.pages:\n",
    "                    contents += page.extract_text()\n",
    "                    lines = contents.split('\\n')\n",
    "                    for line in lines:\n",
    "                        if line.strip().isdigit() or (line.strip() and line[0].isdigit()):\n",
    "                            filtered_lines.append(line)\n",
    "                        else:\n",
    "                            continue\n",
    "                df = pd.DataFrame(filtered_lines, columns=['name'])\n",
    "                df['date'] = filename.replace(\".pdf\",\"\").replace(\"哲朗現貨\",\"\")\n",
    "                try:\n",
    "                    all_pages_df = pd.concat([all_pages_df, df], ignore_index=True)\n",
    "                except:\n",
    "                    print(f\"wrong {filename}\")\n",
    "    return all_pages_df"
   ]
  },
  {
   "cell_type": "code",
   "execution_count": 8,
   "metadata": {},
   "outputs": [],
   "source": [
    "df=readAllZheLangPDF(r\"quotation\\哲朗\")"
   ]
  },
  {
   "cell_type": "code",
   "execution_count": 11,
   "metadata": {},
   "outputs": [],
   "source": [
    "import re"
   ]
  },
  {
   "cell_type": "code",
   "execution_count": 14,
   "metadata": {},
   "outputs": [],
   "source": [
    "def convert_to_standard_date(date_str):\n",
    "    date_formats = [\"%m月%d日\", \"%d-%m-%Y\", \"%Y-%m-%d\", \"%Y年%m月%d日\"]\n",
    "    standard_format = \"%Y-%m-%d\"\n",
    "    default_year = 2024\n",
    "\n",
    "    for date_format in date_formats:\n",
    "        try:\n",
    "            date_obj = datetime.strptime(date_str, date_format)\n",
    "            if \"%Y\" not in date_format:  # 如果格式不包含年份信息，则使用默认年份\n",
    "                date_obj = date_obj.replace(year=default_year)\n",
    "            return date_obj.strftime(standard_format)\n",
    "        except ValueError:\n",
    "            continue\n",
    "\n",
    "    return \"Invalid date format\"\n",
    "def _specToList(spec :list) -> list:\n",
    "\n",
    "    # Sort 'spec' in alphabetical order\n",
    "    spec.sort()\n",
    "\n",
    "    # Initialize variables with empty strings\n",
    "    spec1 = spec2 = spec3 = spec4 = spec5 = spec6 = \"\"\n",
    "\n",
    "    # Assign values from 'spec' to 'spec1' to 'spec6' based on the length of 'spec'\n",
    "    if len(spec) > 0:\n",
    "        spec1 = spec[0]\n",
    "    if len(spec) > 1:\n",
    "        spec2 = spec[1]\n",
    "    if len(spec) > 2:\n",
    "        spec3 = spec[2]\n",
    "    if len(spec) > 3:\n",
    "        spec4 = spec[3]\n",
    "    if len(spec) > 4:\n",
    "        spec5 = spec[4]\n",
    "    if len(spec) > 5:\n",
    "        spec6 = spec[5]\n",
    "\n",
    "    return [spec1,spec2,spec3,spec4,spec5,spec6]\n",
    "def extract_price(text):\n",
    "    matches = re.findall(r'\\d+\\.\\d+', text)\n",
    "    if matches:\n",
    "        return matches[-1]\n",
    "    else:\n",
    "        return None\n",
    "def getZheLangQuote(df: pd.DataFrame) -> pd.DataFrame:\n",
    "    \n",
    "    df['specs'] = df['name'].astype(str).apply(textEx.getSpec)\n",
    "    df['brand'] = df['name'].astype(str).apply(textEx.getBrand)\n",
    "    for index, row in df.iterrows():\n",
    "        if row['brand'] is not None:\n",
    "            df.at[index, 'productName'] = row['name'].replace(row['brand'], '')\n",
    "        else:\n",
    "            df.at[index, 'productName'] = row['name']\n",
    "    df['productTag'] = df['name'].astype(str).apply(textEx.getProduct)\n",
    "    df['supplier'] = '哲朗'\n",
    "    df['category'] = df['name'].astype(str).apply(textEx.getCategory)\n",
    "    df['packing']=df['name'].astype(str).apply(textEx.getPacking)\n",
    "    df['origin'] = df['name'].astype(str).apply(textEx.getCountry)\n",
    "    df['effectiveDate']=df['date'].astype(str).apply(convert_to_standard_date)\n",
    "    df[['spec1', 'spec2', 'spec3', 'spec4', 'spec5', 'spec6']] = df['specs'].apply(lambda x: pd.Series(_specToList(x)))\n",
    "\n",
    "    df['price'] = df['name'].apply(extract_price)\n",
    "    df['weightUnit'] = df['name'].astype(str).apply(textEx.getWeightUnit)\n",
    "    df['warehouse']=df['name'].astype(str).apply(textEx.getWarehoue)\n",
    "    df['notes']= None\n",
    "\n",
    "    df = df.explode('warehouse')\n",
    "    df['warehouse'] = df['warehouse'].astype(str)\n",
    "\n",
    "    required_columns = [\n",
    "    'productName', 'productTag', 'supplier', 'category', 'packing',\n",
    "    'origin', 'brand', 'effectiveDate', 'spec1', 'spec2', 'spec3',\n",
    "    'spec4', 'spec5', 'spec6', 'price', 'weightUnit', 'warehouse', 'notes'\n",
    "    ]\n",
    "    df=df[required_columns]\n",
    "    return df"
   ]
  },
  {
   "cell_type": "code",
   "execution_count": 15,
   "metadata": {},
   "outputs": [],
   "source": [
    "dfout=getZheLangQuote(df)"
   ]
  },
  {
   "cell_type": "code",
   "execution_count": 17,
   "metadata": {},
   "outputs": [],
   "source": [
    "dfout.to_csv(\"哲朗.csv\")"
   ]
  }
 ],
 "metadata": {
  "kernelspec": {
   "display_name": "Python 3",
   "language": "python",
   "name": "python3"
  },
  "language_info": {
   "codemirror_mode": {
    "name": "ipython",
    "version": 3
   },
   "file_extension": ".py",
   "mimetype": "text/x-python",
   "name": "python",
   "nbconvert_exporter": "python",
   "pygments_lexer": "ipython3",
   "version": "3.11.9"
  }
 },
 "nbformat": 4,
 "nbformat_minor": 2
}
