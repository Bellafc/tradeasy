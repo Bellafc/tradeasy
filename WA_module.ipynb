{
 "cells": [
  {
   "cell_type": "code",
   "execution_count": 10,
   "metadata": {},
   "outputs": [
    {
     "name": "stdout",
     "output_type": "stream",
     "text": [
      "SMbe637d5ef910d75241c92d84ff258b04\n"
     ]
    }
   ],
   "source": [
    "from flask import Flask, request, jsonify\n",
    "from twilio. twiml.messaging_response import MessagingResponse\n",
    "import os\n",
    "from twilio.rest import Client\n",
    "\n",
    "account_sid = 'AC79c2fe6511ac0c9a1c3881c384798e22'\n",
    "auth_token = 'c9a5e13731974f3a5d548102fbd96629'\n",
    "client = Client(account_sid, auth_token)\n",
    "\n",
    "message = client.messages.create(\n",
    "  from_='whatsapp:+14155238886',\n",
    "  body='activated',\n",
    "  to='whatsapp:+85261520721'\n",
    ")\n",
    "\n",
    "print(message.sid)\n",
    "\n",
    "\n",
    "app = Flask(__name__)\n",
    "\n",
    "\n",
    "\n",
    "@app.route(\"/whatsapp\", methods=['POST'])\n",
    "def receive_whatsapp_message():\n",
    "    # Extracting the message SID, sender's number, and message body from the request\n",
    "    message_sid = request.form.get('MessageSid', '')\n",
    "    sender = request.form.get('From', '')\n",
    "    message_body = request.form.get('Body', '')\n",
    "\n",
    "    print(f\"Message SID: {message_sid}, From: {sender}, Message: {message_body}\")\n",
    "\n",
    "    # Converting the message to a string (note: it's already a string)\n",
    "    message_str = str(message_body)\n",
    "\n",
    "    # You can process the message string here\n",
    "    print(f\"Received Message: {message_str}\")\n",
    "\n",
    "    ### message recieved\n",
    "    # identify pdf or whatsapp quotation\n",
    "\n",
    "    #1 (whatsapp) break down to individual rows\n",
    "\n",
    "    #2 extract data from whatsapp message\n",
    "\n",
    "    #3 reformat data to standard form \n",
    "\n",
    "    #4 ask user if the data formatted is ok\n",
    "\n",
    "    #5 if yes update database\n",
    "\n",
    "    #6 if no return please check your data again\n",
    "\n",
    "    # Responding to the sender via WhatsApp\n",
    "    resp = MessagingResponse()\n",
    "    resp.message(f\"Received your message: {message_str}\")\n",
    "\n",
    "    return str(resp)\n",
    "\n",
    "\n",
    "if __name__ == '__main__':\n",
    "    app.run(host=\"0.0.0.0\",debug=False,port=5000)"
   ]
  },
  {
   "cell_type": "code",
   "execution_count": 9,
   "metadata": {},
   "outputs": [
    {
     "name": "stdout",
     "output_type": "stream",
     "text": [
      "SMff918bdd4929ca6d2161e7a30616a13d\n"
     ]
    }
   ],
   "source": []
  },
  {
   "cell_type": "code",
   "execution_count": 8,
   "metadata": {},
   "outputs": [],
   "source": [
    "\n"
   ]
  },
  {
   "cell_type": "code",
   "execution_count": null,
   "metadata": {},
   "outputs": [],
   "source": []
  }
 ],
 "metadata": {
  "kernelspec": {
   "display_name": "Tradeasy",
   "language": "python",
   "name": "python3"
  },
  "language_info": {
   "codemirror_mode": {
    "name": "ipython",
    "version": 3
   },
   "file_extension": ".py",
   "mimetype": "text/x-python",
   "name": "python",
   "nbconvert_exporter": "python",
   "pygments_lexer": "ipython3",
   "version": "3.11.8"
  }
 },
 "nbformat": 4,
 "nbformat_minor": 2
}
