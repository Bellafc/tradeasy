{
 "cells": [
  {
   "cell_type": "code",
   "execution_count": 50,
   "metadata": {},
   "outputs": [],
   "source": [
    "# the get method is currently using local csv in long run it should be updated to AWS\n",
    "import pandas as pd\n",
    "import os\n",
    "import re\n",
    "\n",
    "\n",
    "def readData(targetTable :str,method:str) -> dict:\n",
    "    \n",
    "    if method == \"LOCAL\":\n",
    "        dir = os.getcwd() + \"/conversion_table/\"\n",
    "        match targetTable:\n",
    "            case \"BRAND\":\n",
    "                dir = dir + \"brand_conversion_table.csv\"\n",
    "            case \"COUNTRY\":\n",
    "                dir = dir + \"country_conversion.csv\"\n",
    "            case \"SPEC\":\n",
    "                dir = dir + \"spec_conversion.csv\"\n",
    "            case \"PRODUCT\":\n",
    "                dir = dir + \"product_conversion_table.csv\"\n",
    "            case \"WAREHOUSE\":\n",
    "                dir = dir + \"warehouse_conversion.csv\"\n",
    "            case _:\n",
    "                raise TypeError(\"Undefined type : \" + targetTable )\n",
    "            \n",
    "        df = pd.read_csv(dir).map(lambda x: x.lower() if isinstance(x, str) else x).T\n",
    "        new_columns = df.iloc[0]\n",
    "        df_new = df[1:].reset_index(drop=True)\n",
    "        df_new.columns = new_columns\n",
    "        result_dict = df_new.to_dict('list')\n",
    "        dataDict = {k: [i for i in v if type(i) != float] for k, v in result_dict.items()}\n",
    "        return dataDict\n",
    "    \n",
    "    elif method == \"AWS\":\n",
    "        return\n",
    "            \n",
    "\n",
    "    return \n",
    "\n",
    "def compareString(stringValue:str, textlist:list)-> str:\n",
    "    for concatenated_text in textlist:\n",
    "        if str(stringValue) in str(concatenated_text):\n",
    "            return True\n",
    "    return False\n",
    "\n",
    "def match(concatText:str, dataDict:dict,) -> bool:\n",
    "    matched = False\n",
    "    for key, value in dataDict.items():\n",
    "        if compareString(concatText,list(value)):\n",
    "            return key\n",
    "    return None\n",
    "\n",
    "    return matched\n",
    "\n",
    "def getBrand(concatText:str) -> str :\n",
    "    # this function return the strandard brand name \n",
    "    standardName = \"\"\n",
    "    brandDict = readData(\"BRAND\",\"LOCAL\")\n",
    "    standardName = match(concatText,brandDict)\n",
    "\n",
    "    \n",
    "    if standardName == \"\":\n",
    "        print(\"no match is found\")\n",
    "    \n",
    "    return standardName\n",
    "\n",
    "def getCountry(str) -> str :\n",
    "    standardCountry = \"\"\n",
    "    return standardCountry\n",
    "\n",
    "def getSpec(str) -> list:\n",
    "    standardSpec = []\n",
    "    return standardSpec\n",
    "\n",
    "def getProduct(str) -> str:\n",
    "    standardProduct = \"\"\n",
    "    return standardProduct\n",
    "\n",
    "def getWarehoue(str) -> list:\n",
    "    standardWarehoue = []\n",
    "    return standardWarehoue"
   ]
  },
  {
   "cell_type": "code",
   "execution_count": 51,
   "metadata": {},
   "outputs": [
    {
     "data": {
      "text/plain": [
       "['嘉1', '加1', '嘉一', '加一']"
      ]
     },
     "execution_count": 51,
     "metadata": {},
     "output_type": "execute_result"
    }
   ],
   "source": [
    "warehouseDict = readData(\"WAREHOUSE\",\"LOCAL\")\n",
    "list(warehouseDict.values())[0]"
   ]
  },
  {
   "cell_type": "code",
   "execution_count": 52,
   "metadata": {},
   "outputs": [
    {
     "data": {
      "text/plain": [
       "True"
      ]
     },
     "execution_count": 52,
     "metadata": {},
     "output_type": "execute_result"
    }
   ],
   "source": [
    "compareString(\"加\",list(warehouseDict.values())[0])"
   ]
  },
  {
   "cell_type": "code",
   "execution_count": 53,
   "metadata": {},
   "outputs": [],
   "source": [
    "match(\"3加2\",warehouseDict)"
   ]
  },
  {
   "cell_type": "code",
   "execution_count": null,
   "metadata": {},
   "outputs": [],
   "source": []
  }
 ],
 "metadata": {
  "kernelspec": {
   "display_name": "Tradeasy",
   "language": "python",
   "name": "python3"
  },
  "language_info": {
   "codemirror_mode": {
    "name": "ipython",
    "version": 3
   },
   "file_extension": ".py",
   "mimetype": "text/x-python",
   "name": "python",
   "nbconvert_exporter": "python",
   "pygments_lexer": "ipython3",
   "version": "3.11.8"
  }
 },
 "nbformat": 4,
 "nbformat_minor": 2
}
