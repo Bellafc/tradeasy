{
 "cells": [
  {
   "cell_type": "code",
   "execution_count": 2,
   "metadata": {},
   "outputs": [],
   "source": [
    "import mysql.connector\n",
    "\n",
    "config = {\n",
    "  'user': 'admin',\n",
    "  'password': 'TradEasy1234567890.',\n",
    "  'host': 'tradeasyquotation.c9ac6sewqau0.ap-southeast-2.rds.amazonaws.com',\n",
    "  'database': 'Tradeasy_quotation',\n",
    "  'raise_on_warnings': True\n",
    "}\n",
    "\n",
    "cnx = mysql.connector.connect(**config)\n",
    "# ... perform database operations ...\n",
    "cnx.close()\n"
   ]
  },
  {
   "cell_type": "code",
   "execution_count": null,
   "metadata": {},
   "outputs": [],
   "source": []
  }
 ],
 "metadata": {
  "kernelspec": {
   "display_name": "Tradeasy",
   "language": "python",
   "name": "python3"
  },
  "language_info": {
   "codemirror_mode": {
    "name": "ipython",
    "version": 3
   },
   "file_extension": ".py",
   "mimetype": "text/x-python",
   "name": "python",
   "nbconvert_exporter": "python",
   "pygments_lexer": "ipython3",
   "version": "3.11.8"
  }
 },
 "nbformat": 4,
 "nbformat_minor": 2
}
